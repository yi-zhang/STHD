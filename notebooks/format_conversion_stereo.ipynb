{
 "cells": [
  {
   "cell_type": "markdown",
   "id": "38a4d7cc-d309-4ce1-9a69-1e87d720332d",
   "metadata": {},
   "source": [
    "## Stereo-seq data can be aggregated by bin4 or larger and converted for STHD-compatible anndata through stereopy"
   ]
  },
  {
   "cell_type": "code",
   "execution_count": null,
   "id": "a9d6f271-74be-432b-9d5d-9a9b8c5373c5",
   "metadata": {},
   "outputs": [],
   "source": [
    "#pip install stereopy\n",
    "import stereopy as st\n",
    "import squidpy as sq\n"
   ]
  },
  {
   "cell_type": "code",
   "execution_count": null,
   "id": "9af5eb82-ffcf-4bdc-84b9-fd09f4338c3b",
   "metadata": {},
   "outputs": [],
   "source": [
    "\n",
    "def stereoseq_to_STHD( spatial_path, counts_data, stereo_data_name, full_res_image_path, bin_size = 4, savepath = './'):\n",
    "    ## Default VisiumHD. Adding stereo-seq compatibility for bin4 or larger. Note that STHD fast_plot would not work due to large number of datapoints.\n",
    "    print(\"converting stereoseq gef into STHD compatible. Use load_type = 'crop' in loading.\")\n",
    "    print(\"bin_size will affect neighbor sizes, recommend bin_size=4 or larger to fit current n_ring setting\")\n",
    "    print(\"Loading this converted anndata using another mode in sthdio: load_type = 'preload' . \")\n",
    "    # Use stereopy’s IO to convert Stereo-seq data into an AnnData object.\n",
    "    # (Based on https://stereopy.readthedocs.io/en/latest/api.html#stereo.io.stereo_to_anndata)\n",
    "    # Author-conversion: Zijia Tang\n",
    "    \n",
    "    if stereo_data_name is None:\n",
    "        print(\"Warning! Default name set to Mouse_brain_data.\")\n",
    "        stereo_data_name = 'Mouse_brain_data'\n",
    "    \n",
    "    data = st.io.read_gef(file_path= spatial_path + counts_data, bin_size = bin_size)\n",
    "    adata = st.io.stereo_to_anndata(data, image = full_res_image_path, im_library_id = stereo_data_name)\n",
    "\n",
    "    adata.obs['array_row'] = adata.obs['y']\n",
    "    adata.obs['array_col'] = adata.obs['x']\n",
    "\n",
    "    \n",
    "    # conversion to 3-channel RGB image\n",
    "    if adata.uns['spatial'][stereo_data_name]['images']['hires'].shape == 2:\n",
    "        print(\"For image compatibility, converting 2-channel image to 3-channel\")\n",
    "        narr = np.zeros((self.adata.uns['spatial'][stereo_data_name]['images']['hires'].shape[0], adata.uns['spatial'][stereo_data_name]['images']['hires'].shape[1], 3), dtype = np.uint8)\n",
    "        narr[:,:,2] = self.adata.uns['spatial'][stereo_data_name]['images']['hires']\n",
    "        adata.uns['spatial'][stereo_data_name]['images']['hires'] = narr\n",
    "        \n",
    "        narr = np.zeros((self.adata.uns['spatial'][stereo_data_name]['images']['lowres'].shape[0], adata.uns['spatial'][stereo_data_name]['images']['lowres'].shape[1], 3), dtype = np.uint8)\n",
    "        narr[:,:,2] = self.adata.uns['spatial'][stereo_data_name]['images']['lowres']\n",
    "        adata.uns['spatial'][stereo_data_name]['images']['lowres'] = narr\n",
    "    return(adata)"
   ]
  }
 ],
 "metadata": {
  "kernelspec": {
   "display_name": "sthd_rebuttal",
   "language": "python",
   "name": "sthd_rebuttal"
  },
  "language_info": {
   "codemirror_mode": {
    "name": "ipython",
    "version": 3
   },
   "file_extension": ".py",
   "mimetype": "text/x-python",
   "name": "python",
   "nbconvert_exporter": "python",
   "pygments_lexer": "ipython3",
   "version": "3.8.8"
  }
 },
 "nbformat": 4,
 "nbformat_minor": 5
}
