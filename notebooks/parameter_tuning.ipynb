{
 "cells": [
  {
   "cell_type": "markdown",
   "id": "0e7195da-47e1-4a19-a8fa-f8d24548ce44",
   "metadata": {},
   "source": [
    "# Example notebook for parameter tuning"
   ]
  },
  {
   "cell_type": "code",
   "execution_count": 1,
   "id": "4a16cd35-4b78-45d2-bd93-3f7d1ea63e8a",
   "metadata": {},
   "outputs": [],
   "source": [
    "import numpy as np\n",
    "import pandas as pd\n",
    "import matplotlib.pyplot as plt\n",
    "import scipy\n",
    "import numba\n",
    "import squidpy as sq\n",
    "from numba import jit, njit, prange\n",
    "\n",
    "'''library to train STHD model. Example codes:'''\n",
    "import pandas as pd\n",
    "import matplotlib.pyplot as plt\n",
    "import squidpy as sq\n",
    "import sys\n",
    "import os\n",
    "from collections import Counter\n",
    "\n",
    "from STHD import train, sthdio, qcmask"
   ]
  },
  {
   "cell_type": "markdown",
   "id": "bd12fd25-a288-4397-b64c-35634f47f5b9",
   "metadata": {},
   "source": [
    "# FUNCTION"
   ]
  },
  {
   "cell_type": "code",
   "execution_count": 23,
   "id": "f3671441-d4a4-431d-ae08-db6d18f6b1a6",
   "metadata": {},
   "outputs": [],
   "source": [
    "## Tuning with patches\n",
    "\n",
    "def parameter_tuning(beta, patch_path, refile, step_size = 1, max_iter = 500):\n",
    "    \n",
    "    sthdata = train.load_data(patch_path)\n",
    "    sthdata.adata = qcmask.background_detector(sthdata.adata, threshold = 51, n_neighs =4, n_rings = 2)\n",
    "    sthdata_filtered = qcmask.filter_background(sthdata, threshold = 51 )\n",
    "    print(sthdata.adata.shape)\n",
    "    sthdata_filtered, genemeanpd_filtered = train.sthdata_match_refgene(sthdata_filtered, refile)\n",
    "    \n",
    "    P_filtered, metrics = train.train(sthdata_filtered, max_iter, step_size, beta, debug=True, early_stop=True)\n",
    "    P = train.fill_p_filtered_to_p_full(P_filtered, sthdata_filtered, genemeanpd_filtered, sthdata)\n",
    "    sthdata = train.predict(sthdata, P, genemeanpd_filtered, mapcut= 0.8)\n",
    "    pdata = train.save_prediction_pdata(sthdata, file_path = patch_path, prefix = f'beta_{beta}_stepsize_{step_size}')\n",
    "    metrics = pd.DataFrame(metrics, columns=['ll','ce'])\n",
    "    metrics.to_csv(os.path.join(patch_path, f'metric_beta_{beta}_stepsize_{step_size}.tsv'), sep = '\\t')\n",
    "\n",
    "def crop_patch(full_data, x1,y1,d,save_loc, sample_name = 'Visium_HD_Human_Colon_Cancer'):\n",
    "    x2 = x1+d\n",
    "    y2 = y1+d \n",
    "    crop_data = full_data.crop(\n",
    "        x1, x2, y1, y2, \n",
    "        full_data.adata.uns['spatial'][sample_name]['scalefactors']['tissue_hires_scalef']\n",
    "    )\n",
    "    crop_data.save(save_loc)\n",
    "\n",
    "def check_res(res_dir, beta_list, step_size):\n",
    "    res_metrics = dict()\n",
    "    for beta in beta_list:\n",
    "        res_metrics[beta] = pd.read_csv(os.path.join(res_dir, f'metric_beta_{beta}_stepsize_{step_size}.tsv'), sep='\\t', index_col=0)\n",
    "\n",
    "    ref_ll = res_metrics[0].iloc[-1]['ll']\n",
    "    ref_ce = res_metrics[0].iloc[-1]['ce']\n",
    "    for beta in beta_list:\n",
    "        cur_metric = res_metrics[beta]\n",
    "        print(\n",
    "            beta, '\\t', \n",
    "            len(cur_metric), '\\t', \n",
    "            f\"{cur_metric.iloc[-1]['ll']:.2f}\", '\\t', \n",
    "            f\"{cur_metric.iloc[-1]['ce']:.2f}\", '\\t',\n",
    "            f\"{(-cur_metric.iloc[-1]['ll'] + ref_ll) / (-ref_ll):.3f}\", '\\t',\n",
    "            f\"{(cur_metric.iloc[-1]['ce']) / ref_ce:.3f}\", '\\t',\n",
    "        )\n",
    "        plt.scatter(-cur_metric.iloc[-1]['ll'], cur_metric.iloc[-1]['ce'], label = beta)\n",
    "    plt.xlabel('negative log likelihood')\n",
    "    plt.ylabel('cross entropy')\n",
    "    plt.legend()\n",
    "    plt.yscale('log')\n",
    "\n",
    "## Gather tuning results\n",
    "\n",
    "def summary_single_sample(paratune_folder, beta_list, step_size):\n",
    "    \"\"\" Find the best beta value for a given sample.\n",
    "    Criteria: The beta that let cross entropy reduces to 10% of its original value when beta=0.\n",
    "    \"\"\"\n",
    "    res_metrics = dict()\n",
    "    for beta in beta_list:\n",
    "        res_metrics[beta] = pd.read_csv(os.path.join(paratune_folder, f'metric_beta_{beta}_stepsize_{step_size}.tsv'), sep='\\t', index_col=0)\n",
    "\n",
    "    ref_ll = res_metrics[0].iloc[-1]['ll']\n",
    "    ref_ce = res_metrics[0].iloc[-1]['ce']\n",
    "    res = []\n",
    "    for beta in beta_list:\n",
    "        cur_metric = res_metrics[beta]\n",
    "        res.append([\n",
    "            beta, \n",
    "            len(cur_metric), \n",
    "            cur_metric.iloc[-1]['ll'],\n",
    "            cur_metric.iloc[-1]['ce'],\n",
    "            (-cur_metric.iloc[-1]['ll'] + ref_ll) / (-ref_ll),\n",
    "            (cur_metric.iloc[-1]['ce']) / ref_ce,\n",
    "            ])\n",
    "    res = pd.DataFrame(res, columns=['beta', 'step', 'll', 'ce', 'll_degrade_ratio', 'ce_improve_ratio'])\n",
    "\n",
    "    res['diff_10_ce_improve'] = np.abs(res['ce_improve_ratio'] - 0.1)\n",
    "\n",
    "    res = res.sort_values('diff_10_ce_improve')\n",
    "\n",
    "    best_beta = res.iloc[0]['beta']\n",
    "    best_step = res.iloc[0]['step']\n",
    "    \n",
    "    return res, best_beta, best_step\n",
    "\n",
    "def find_params(paratune_folder, beta_list, step_size = 1):\n",
    "    \"\"\" Summarize the best beta from different samples.\n",
    "    \"\"\"\n",
    "    patch_names = os.listdir(paratune_folder)\n",
    "    res = []\n",
    "    for patch in patch_names:\n",
    "        _, best_beta, best_step = summary_single_sample(os.path.join(paratune_folder, patch), beta_list, step_size)\n",
    "        res.append([best_beta, best_step])\n",
    "    res = pd.DataFrame(res, columns=['beta', 'n_iter'])\n",
    "\n",
    "    beta_mode = Counter(res['beta'].values).most_common()\n",
    "    best_beta = beta_mode[0][0]\n",
    "    best_n_iter = res[res['beta']==beta_mode[0][0]]['n_iter'].mean()\n",
    "    \n",
    "    print(f'Bett value that most samples find to be best: {best_beta}')\n",
    "    print(f'How many samples find this beta to be the best: {100*beta_mode[0][1] / len(patch_names):.1f}%' )\n",
    "    print(f\"Averaged n_iter under this beta: {best_n_iter:.2f}\")\n",
    "    return best_beta, best_n_iter, res"
   ]
  },
  {
   "cell_type": "markdown",
   "id": "236bd26d-a847-4101-b50b-e2b20a2374bf",
   "metadata": {},
   "source": [
    "# Config\n",
    "- beta_list. recommended e.g. beta_list = [0, 0.1, 0.2]. Beta controls the tradeoff between optimizing loglike hood vs optimizing cross entropy. When tuning beta, we keep step_size fixed. We will check the impact of step_size in the next section.\n",
    "- full_data_path contains ./square_002um, filtered_feature_bc_matrix.h5, and full resolution image\n",
    "- paratune_folder for saving parameter tuning results on selected patches\n",
    "- refile is the reference scRNA file generated in s01\n",
    "- patches need to be selected from sample to cover regions to tune parameters on"
   ]
  },
  {
   "cell_type": "code",
   "execution_count": 25,
   "id": "9ebce261-bdcb-4627-a89e-a897608f759b",
   "metadata": {},
   "outputs": [],
   "source": [
    "full_data_path = '/hpc/group/yizhanglab/yz922/DATA/spatial/10x_HD_human_colon_cancer_20240325'\n",
    "\n",
    "paratune_folder = './parameter_tuning' \n",
    "refile = '/hpc/group/yizhanglab/yz922/proj/STHDdev/STHD_data/colon_cancer_celltype_average_expr_genenorm_rctd_style_0430_4575gs.txt'\n",
    "\n",
    "\n",
    "#beta_list = [0, 0.03, 0.1, 0.3, 1 ] # must contain 0\n",
    "beta_list = [0, 0.1, 0.3]\n",
    "\n",
    "# Manually select 6 patches for parameter tuning.\n",
    "# Ideally they should be representative.\n",
    "patches = {\n",
    "    'crop0_left1_enteroendocrine_tumor':{'x1': 52500,'y1': 9250,'d': 1100},\n",
    "    'crop1_left2_enteroendocrine_tumor':{'x1': 53450,'y1': 8360,'d': 1100},\n",
    "    'crop2_gland1':{'x1': 55200,'y1': 7960,'d': 1100},\n",
    "    'crop10_tumorcrypt_plasma':{'x1': 56250,'y1': 8250,'d': 1100},\n",
    "    'crop5_trich':{'x1': 45450,'y1': 4100,'d': 1100},\n",
    "    'crop15_tcells_with_DC':{'x1': 62800,'y1': 11000,'d': 1100}\n",
    "}"
   ]
  },
  {
   "cell_type": "markdown",
   "id": "b136b2e0-50cc-4a76-bf26-b1b8b44ba81f",
   "metadata": {},
   "source": [
    "# Only for first time tuning data preparation: selected represented regions on your data - loading takes time. "
   ]
  },
  {
   "cell_type": "code",
   "execution_count": 7,
   "id": "2905bc99-e7c1-4297-aa59-b69bf751d56d",
   "metadata": {
    "collapsed": true,
    "jupyter": {
     "outputs_hidden": true
    }
   },
   "outputs": [
    {
     "name": "stderr",
     "output_type": "stream",
     "text": [
      "/hpc/group/yizhanglab/yiz/venv/sthd_rebuttal/lib/python3.8/site-packages/anndata/_core/anndata.py:1840: UserWarning: Variable names are not unique. To make them unique, call `.var_names_make_unique`.\n",
      "  utils.warn_names_duplicates(\"var\")\n",
      "/hpc/group/yizhanglab/yiz/venv/sthd_rebuttal/lib/python3.8/site-packages/anndata/_core/anndata.py:1840: UserWarning: Variable names are not unique. To make them unique, call `.var_names_make_unique`.\n",
      "  utils.warn_names_duplicates(\"var\")\n"
     ]
    },
    {
     "name": "stdout",
     "output_type": "stream",
     "text": [
      "Input Pixel is aligned to 52500, 9244, 53590, 10334\n",
      "creating new folder to save cropped data:  ./parameter_tuning_new_stop/crop0_left1_enteroendocrine_tumor\n"
     ]
    },
    {
     "name": "stderr",
     "output_type": "stream",
     "text": [
      "/hpc/group/yizhanglab/yiz/venv/sthd_rebuttal/lib/python3.8/site-packages/anndata/_core/anndata.py:1230: ImplicitModificationWarning: Trying to modify attribute `.var` of view, initializing view as actual.\n",
      "  df[key] = c\n",
      "/hpc/group/yizhanglab/yiz/venv/sthd_rebuttal/lib/python3.8/site-packages/anndata/_core/anndata.py:1840: UserWarning: Variable names are not unique. To make them unique, call `.var_names_make_unique`.\n",
      "  utils.warn_names_duplicates(\"var\")\n",
      "/hpc/group/yizhanglab/yiz/venv/sthd_rebuttal/lib/python3.8/site-packages/anndata/_core/anndata.py:1230: ImplicitModificationWarning: Trying to modify attribute `.var` of view, initializing view as actual.\n",
      "  df[key] = c\n",
      "/hpc/group/yizhanglab/yiz/venv/sthd_rebuttal/lib/python3.8/site-packages/anndata/_core/anndata.py:1840: UserWarning: Variable names are not unique. To make them unique, call `.var_names_make_unique`.\n",
      "  utils.warn_names_duplicates(\"var\")\n"
     ]
    },
    {
     "name": "stdout",
     "output_type": "stream",
     "text": [
      "Input Pixel is aligned to 53441, 8353, 54531, 9443\n",
      "creating new folder to save cropped data:  ./parameter_tuning_new_stop/crop1_left2_enteroendocrine_tumor\n"
     ]
    },
    {
     "name": "stderr",
     "output_type": "stream",
     "text": [
      "/hpc/group/yizhanglab/yiz/venv/sthd_rebuttal/lib/python3.8/site-packages/anndata/_core/anndata.py:1230: ImplicitModificationWarning: Trying to modify attribute `.var` of view, initializing view as actual.\n",
      "  df[key] = c\n",
      "/hpc/group/yizhanglab/yiz/venv/sthd_rebuttal/lib/python3.8/site-packages/anndata/_core/anndata.py:1840: UserWarning: Variable names are not unique. To make them unique, call `.var_names_make_unique`.\n",
      "  utils.warn_names_duplicates(\"var\")\n",
      "/hpc/group/yizhanglab/yiz/venv/sthd_rebuttal/lib/python3.8/site-packages/anndata/_core/anndata.py:1230: ImplicitModificationWarning: Trying to modify attribute `.var` of view, initializing view as actual.\n",
      "  df[key] = c\n",
      "/hpc/group/yizhanglab/yiz/venv/sthd_rebuttal/lib/python3.8/site-packages/anndata/_core/anndata.py:1840: UserWarning: Variable names are not unique. To make them unique, call `.var_names_make_unique`.\n",
      "  utils.warn_names_duplicates(\"var\")\n"
     ]
    },
    {
     "name": "stdout",
     "output_type": "stream",
     "text": [
      "Input Pixel is aligned to 55196, 7952, 56286, 9042\n",
      "creating new folder to save cropped data:  ./parameter_tuning_new_stop/crop2_gland1\n"
     ]
    },
    {
     "name": "stderr",
     "output_type": "stream",
     "text": [
      "/hpc/group/yizhanglab/yiz/venv/sthd_rebuttal/lib/python3.8/site-packages/anndata/_core/anndata.py:1230: ImplicitModificationWarning: Trying to modify attribute `.var` of view, initializing view as actual.\n",
      "  df[key] = c\n",
      "/hpc/group/yizhanglab/yiz/venv/sthd_rebuttal/lib/python3.8/site-packages/anndata/_core/anndata.py:1840: UserWarning: Variable names are not unique. To make them unique, call `.var_names_make_unique`.\n",
      "  utils.warn_names_duplicates(\"var\")\n",
      "/hpc/group/yizhanglab/yiz/venv/sthd_rebuttal/lib/python3.8/site-packages/anndata/_core/anndata.py:1230: ImplicitModificationWarning: Trying to modify attribute `.var` of view, initializing view as actual.\n",
      "  df[key] = c\n",
      "/hpc/group/yizhanglab/yiz/venv/sthd_rebuttal/lib/python3.8/site-packages/anndata/_core/anndata.py:1840: UserWarning: Variable names are not unique. To make them unique, call `.var_names_make_unique`.\n",
      "  utils.warn_names_duplicates(\"var\")\n"
     ]
    },
    {
     "name": "stdout",
     "output_type": "stream",
     "text": [
      "Input Pixel is aligned to 56250, 8240, 57340, 9330\n",
      "creating new folder to save cropped data:  ./parameter_tuning_new_stop/crop10_tumorcrypt_plasma\n"
     ]
    },
    {
     "name": "stderr",
     "output_type": "stream",
     "text": [
      "/hpc/group/yizhanglab/yiz/venv/sthd_rebuttal/lib/python3.8/site-packages/anndata/_core/anndata.py:1230: ImplicitModificationWarning: Trying to modify attribute `.var` of view, initializing view as actual.\n",
      "  df[key] = c\n",
      "/hpc/group/yizhanglab/yiz/venv/sthd_rebuttal/lib/python3.8/site-packages/anndata/_core/anndata.py:1840: UserWarning: Variable names are not unique. To make them unique, call `.var_names_make_unique`.\n",
      "  utils.warn_names_duplicates(\"var\")\n",
      "/hpc/group/yizhanglab/yiz/venv/sthd_rebuttal/lib/python3.8/site-packages/anndata/_core/anndata.py:1230: ImplicitModificationWarning: Trying to modify attribute `.var` of view, initializing view as actual.\n",
      "  df[key] = c\n",
      "/hpc/group/yizhanglab/yiz/venv/sthd_rebuttal/lib/python3.8/site-packages/anndata/_core/anndata.py:1840: UserWarning: Variable names are not unique. To make them unique, call `.var_names_make_unique`.\n",
      "  utils.warn_names_duplicates(\"var\")\n"
     ]
    },
    {
     "name": "stdout",
     "output_type": "stream",
     "text": [
      "Input Pixel is aligned to 45439, 4089, 46529, 5179\n",
      "creating new folder to save cropped data:  ./parameter_tuning_new_stop/crop5_trich\n"
     ]
    },
    {
     "name": "stderr",
     "output_type": "stream",
     "text": [
      "/hpc/group/yizhanglab/yiz/venv/sthd_rebuttal/lib/python3.8/site-packages/anndata/_core/anndata.py:1230: ImplicitModificationWarning: Trying to modify attribute `.var` of view, initializing view as actual.\n",
      "  df[key] = c\n",
      "/hpc/group/yizhanglab/yiz/venv/sthd_rebuttal/lib/python3.8/site-packages/anndata/_core/anndata.py:1840: UserWarning: Variable names are not unique. To make them unique, call `.var_names_make_unique`.\n",
      "  utils.warn_names_duplicates(\"var\")\n",
      "/hpc/group/yizhanglab/yiz/venv/sthd_rebuttal/lib/python3.8/site-packages/anndata/_core/anndata.py:1230: ImplicitModificationWarning: Trying to modify attribute `.var` of view, initializing view as actual.\n",
      "  df[key] = c\n",
      "/hpc/group/yizhanglab/yiz/venv/sthd_rebuttal/lib/python3.8/site-packages/anndata/_core/anndata.py:1840: UserWarning: Variable names are not unique. To make them unique, call `.var_names_make_unique`.\n",
      "  utils.warn_names_duplicates(\"var\")\n"
     ]
    },
    {
     "name": "stdout",
     "output_type": "stream",
     "text": [
      "Input Pixel is aligned to 62797, 11000, 63887, 12090\n",
      "creating new folder to save cropped data:  ./parameter_tuning_new_stop/crop15_tcells_with_DC\n"
     ]
    },
    {
     "name": "stderr",
     "output_type": "stream",
     "text": [
      "/hpc/group/yizhanglab/yiz/venv/sthd_rebuttal/lib/python3.8/site-packages/anndata/_core/anndata.py:1230: ImplicitModificationWarning: Trying to modify attribute `.var` of view, initializing view as actual.\n",
      "  df[key] = c\n",
      "/hpc/group/yizhanglab/yiz/venv/sthd_rebuttal/lib/python3.8/site-packages/anndata/_core/anndata.py:1840: UserWarning: Variable names are not unique. To make them unique, call `.var_names_make_unique`.\n",
      "  utils.warn_names_duplicates(\"var\")\n",
      "/hpc/group/yizhanglab/yiz/venv/sthd_rebuttal/lib/python3.8/site-packages/anndata/_core/anndata.py:1230: ImplicitModificationWarning: Trying to modify attribute `.var` of view, initializing view as actual.\n",
      "  df[key] = c\n",
      "/hpc/group/yizhanglab/yiz/venv/sthd_rebuttal/lib/python3.8/site-packages/anndata/_core/anndata.py:1840: UserWarning: Variable names are not unique. To make them unique, call `.var_names_make_unique`.\n",
      "  utils.warn_names_duplicates(\"var\")\n"
     ]
    }
   ],
   "source": [
    "# Load full data\n",
    "full_data = sthdio.STHD(\n",
    "    spatial_path = full_data_path + '/square_002um/', \n",
    "    counts_data = 'filtered_feature_bc_matrix.h5', \n",
    "    full_res_image_path= full_data_path + '/Visium_HD_Human_Colon_Cancer_tissue_image.btf', \n",
    "    load_type = 'original'\n",
    ")\n",
    "\n",
    "for patch_name in patches:\n",
    "    cur_patch = patches[patch_name]\n",
    "    crop_patch(full_data, cur_patch['x1'], cur_patch['y1'], cur_patch['d'], os.path.join(paratune_folder, patch_name))"
   ]
  },
  {
   "cell_type": "markdown",
   "id": "13e90dcc-0f51-4039-aa62-4fbb26b33d11",
   "metadata": {},
   "source": [
    "# Parameter tuning on selected represented regions- training takes time. "
   ]
  },
  {
   "cell_type": "code",
   "execution_count": null,
   "id": "87fcd42f-2883-41a5-88f8-a40ec78b8798",
   "metadata": {
    "collapsed": true,
    "jupyter": {
     "outputs_hidden": true
    }
   },
   "outputs": [
    {
     "name": "stdout",
     "output_type": "stream",
     "text": [
      "[log] ------- Current Patch:  crop0_left1_enteroendocrine_tumor 0\n"
     ]
    },
    {
     "name": "stderr",
     "output_type": "stream",
     "text": [
      "/hpc/group/yizhanglab/yiz/venv/sthd_rebuttal/lib/python3.8/site-packages/anndata/_core/anndata.py:1840: UserWarning: Variable names are not unique. To make them unique, call `.var_names_make_unique`.\n",
      "  utils.warn_names_duplicates(\"var\")\n"
     ]
    },
    {
     "name": "stdout",
     "output_type": "stream",
     "text": [
      "[log] Number of spots:  22335\n",
      "[Log] filtering background: 22335 spots to 21183 spots\n",
      "(22335, 18085)\n"
     ]
    },
    {
     "name": "stderr",
     "output_type": "stream",
     "text": [
      "/hpc/group/yizhanglab/yiz/venv/sthd_rebuttal/lib/python3.8/site-packages/anndata/_core/anndata.py:1840: UserWarning: Variable names are not unique. To make them unique, call `.var_names_make_unique`.\n",
      "  utils.warn_names_duplicates(\"var\")\n"
     ]
    },
    {
     "name": "stdout",
     "output_type": "stream",
     "text": [
      "[Log] num of gene overlap 4171\n",
      "[Log] attaching ref gene expr in .lambda_cell_type_by_gene_matrix\n",
      "cut 18085 genes to match to reference 4171 genes\n",
      "[Log] prepare_constants and training weights\n",
      "Currently we only support symmetric adjacency matrix of neighbors\n",
      "[Log] Training...\n",
      "0 102.88334040014644 -102.88334040014644 54.33869146536226\n",
      "1 97.67319328211515 -97.67319328211515 55.59135570443588\n",
      "2 94.18994372405021 -94.18994372405021 56.79691736187852\n",
      "3 92.1248247358366 -92.1248247358366 58.79467295232333\n",
      "4 90.7802418024446 -90.7802418024446 61.45132934387135\n",
      "5 89.78856833039657 -89.78856833039657 64.66001265950679\n",
      "6 89.04085462239007 -89.04085462239007 68.41701833620279\n",
      "7 88.45725961708297 -88.45725961708297 72.7460514655003\n",
      "8 87.96931428104467 -87.96931428104467 77.56729962661348\n",
      "9 87.54084831238711 -87.54084831238711 82.73480168281696\n",
      "10 87.16263713979541 -87.16263713979541 88.2067748805965\n",
      "11 86.84753042498919 -86.84753042498919 94.14753729631438\n",
      "12 86.61248312220145 -86.61248312220145 100.7767415894923\n",
      "13 86.4569288071546 -86.4569288071546 108.13233770254756\n",
      "14 86.36304842667954 -86.36304842667954 115.99650859274368\n",
      "15 86.30927188104168 -86.30927188104168 124.03264108857798\n",
      "16 86.27892724242469 -86.27892724242469 131.94500308669544\n",
      "17 86.26161001870008 -86.26161001870008 139.53866721238697\n",
      "18 86.25146135718774 -86.25146135718774 146.7070277735346\n",
      "19 86.245310860138 -86.245310860138 153.40279349328696\n",
      "20 86.24144848293608 -86.24144848293608 159.61457893092302\n"
     ]
    },
    {
     "name": "stderr",
     "output_type": "stream",
     "text": [
      "/hpc/group/yizhanglab/yiz/venv/sthd_rebuttal/lib/python3.8/site-packages/anndata/_core/anndata.py:1840: UserWarning: Variable names are not unique. To make them unique, call `.var_names_make_unique`.\n",
      "  utils.warn_names_duplicates(\"var\")\n",
      "/hpc/group/yizhanglab/yiz/venv/sthd_rebuttal/lib/python3.8/site-packages/STHD/train.py:75: PerformanceWarning: DataFrame is highly fragmented.  This is usually the result of calling `frame.insert` many times, which has poor performance.  Consider joining all columns at once using pd.concat(axis=1) instead. To get a de-fragmented frame, use `newframe = frame.copy()`\n",
      "  adata.obs[\"p_ct_\" + ct] = p[:, i]\n",
      "/hpc/group/yizhanglab/yiz/venv/sthd_rebuttal/lib/python3.8/site-packages/STHD/train.py:76: PerformanceWarning: DataFrame is highly fragmented.  This is usually the result of calling `frame.insert` many times, which has poor performance.  Consider joining all columns at once using pd.concat(axis=1) instead. To get a de-fragmented frame, use `newframe = frame.copy()`\n",
      "  adata.obs[\"x\"] = adata.obsm[\"spatial\"][:, 0]\n",
      "/hpc/group/yizhanglab/yiz/venv/sthd_rebuttal/lib/python3.8/site-packages/STHD/train.py:77: PerformanceWarning: DataFrame is highly fragmented.  This is usually the result of calling `frame.insert` many times, which has poor performance.  Consider joining all columns at once using pd.concat(axis=1) instead. To get a de-fragmented frame, use `newframe = frame.copy()`\n",
      "  adata.obs[\"y\"] = adata.obsm[\"spatial\"][:, 1]\n",
      "/hpc/group/yizhanglab/yiz/venv/sthd_rebuttal/lib/python3.8/site-packages/STHD/train.py:96: PerformanceWarning: DataFrame is highly fragmented.  This is usually the result of calling `frame.insert` many times, which has poor performance.  Consider joining all columns at once using pd.concat(axis=1) instead. To get a de-fragmented frame, use `newframe = frame.copy()`\n",
      "  adata.obs[\"STHD_pred_ct\"] = STHD_pred_ct[\"ct\"]\n"
     ]
    },
    {
     "name": "stdout",
     "output_type": "stream",
     "text": [
      "[Log]Predicted cell type in STHD_pred_ct in adata.obs\n",
      "[Log]Predicted cell type probabilities in columns starting with p_ct_ in adata.obs\n",
      "[Log] prediction saved to ./parameter_tuning_new_stop/crop0_left1_enteroendocrine_tumor/beta_0_stepsize_1_pdata.tsv\n",
      "[log] ------- Current Patch:  crop0_left1_enteroendocrine_tumor 0.03\n"
     ]
    },
    {
     "name": "stderr",
     "output_type": "stream",
     "text": [
      "/hpc/group/yizhanglab/yiz/venv/sthd_rebuttal/lib/python3.8/site-packages/anndata/_core/anndata.py:1840: UserWarning: Variable names are not unique. To make them unique, call `.var_names_make_unique`.\n",
      "  utils.warn_names_duplicates(\"var\")\n"
     ]
    },
    {
     "name": "stdout",
     "output_type": "stream",
     "text": [
      "[log] Number of spots:  22335\n",
      "[Log] filtering background: 22335 spots to 21183 spots\n",
      "(22335, 18085)\n"
     ]
    },
    {
     "name": "stderr",
     "output_type": "stream",
     "text": [
      "/hpc/group/yizhanglab/yiz/venv/sthd_rebuttal/lib/python3.8/site-packages/anndata/_core/anndata.py:1840: UserWarning: Variable names are not unique. To make them unique, call `.var_names_make_unique`.\n",
      "  utils.warn_names_duplicates(\"var\")\n"
     ]
    },
    {
     "name": "stdout",
     "output_type": "stream",
     "text": [
      "[Log] num of gene overlap 4171\n",
      "[Log] attaching ref gene expr in .lambda_cell_type_by_gene_matrix\n",
      "cut 18085 genes to match to reference 4171 genes\n",
      "[Log] prepare_constants and training weights\n",
      "Currently we only support symmetric adjacency matrix of neighbors\n",
      "[Log] Training...\n",
      "0 104.51350114410731 -102.88334040014644 54.33869146536226\n",
      "1 99.34093435732161 -97.67319368747339 55.59135566160781\n",
      "2 95.84409162013748 -94.172874835533 55.707226153482736\n",
      "3 93.75643821398933 -92.0944682891317 55.39899749525422\n",
      "4 92.39163423240448 -90.74901511229533 54.75397067030519\n",
      "5 91.38435294589203 -89.76851409359298 53.861295076634995\n",
      "6 90.6260797135917 -89.04212958943171 52.79833747199952\n",
      "7 90.03843766385144 -88.48768381326515 51.691795019543044\n",
      "8 89.54675888057956 -88.03065480083434 50.536802658173976\n",
      "9 89.10742128766387 -87.63098337541287 49.21459707503318\n",
      "10 88.71742964139958 -87.28515219305051 47.74258161163543\n",
      "11 88.40504837639727 -87.01488023204188 46.33893814517978\n",
      "12 88.19165973986651 -86.83610503227223 45.18515691980909\n",
      "13 88.06532539234853 -86.74009409387634 44.174376615739526\n",
      "14 87.99401386968846 -86.70368430765916 43.01098540097685\n",
      "15 87.9486769524995 -86.70480154011491 41.46251374615271\n",
      "16 87.91241338282198 -86.72831106581528 39.47007723355697\n",
      "17 87.87892704948297 -86.76449279123945 37.147808608117394\n",
      "18 87.84738569241257 -86.80589581483474 34.71632925259435\n",
      "19 87.81808855989567 -86.84653920722302 32.38497842242157\n",
      "20 87.79129513293292 -86.88235034520993 30.298159590766197\n"
     ]
    },
    {
     "name": "stderr",
     "output_type": "stream",
     "text": [
      "/hpc/group/yizhanglab/yiz/venv/sthd_rebuttal/lib/python3.8/site-packages/anndata/_core/anndata.py:1840: UserWarning: Variable names are not unique. To make them unique, call `.var_names_make_unique`.\n",
      "  utils.warn_names_duplicates(\"var\")\n",
      "/hpc/group/yizhanglab/yiz/venv/sthd_rebuttal/lib/python3.8/site-packages/STHD/train.py:75: PerformanceWarning: DataFrame is highly fragmented.  This is usually the result of calling `frame.insert` many times, which has poor performance.  Consider joining all columns at once using pd.concat(axis=1) instead. To get a de-fragmented frame, use `newframe = frame.copy()`\n",
      "  adata.obs[\"p_ct_\" + ct] = p[:, i]\n",
      "/hpc/group/yizhanglab/yiz/venv/sthd_rebuttal/lib/python3.8/site-packages/STHD/train.py:76: PerformanceWarning: DataFrame is highly fragmented.  This is usually the result of calling `frame.insert` many times, which has poor performance.  Consider joining all columns at once using pd.concat(axis=1) instead. To get a de-fragmented frame, use `newframe = frame.copy()`\n",
      "  adata.obs[\"x\"] = adata.obsm[\"spatial\"][:, 0]\n",
      "/hpc/group/yizhanglab/yiz/venv/sthd_rebuttal/lib/python3.8/site-packages/STHD/train.py:77: PerformanceWarning: DataFrame is highly fragmented.  This is usually the result of calling `frame.insert` many times, which has poor performance.  Consider joining all columns at once using pd.concat(axis=1) instead. To get a de-fragmented frame, use `newframe = frame.copy()`\n",
      "  adata.obs[\"y\"] = adata.obsm[\"spatial\"][:, 1]\n",
      "/hpc/group/yizhanglab/yiz/venv/sthd_rebuttal/lib/python3.8/site-packages/STHD/train.py:96: PerformanceWarning: DataFrame is highly fragmented.  This is usually the result of calling `frame.insert` many times, which has poor performance.  Consider joining all columns at once using pd.concat(axis=1) instead. To get a de-fragmented frame, use `newframe = frame.copy()`\n",
      "  adata.obs[\"STHD_pred_ct\"] = STHD_pred_ct[\"ct\"]\n"
     ]
    },
    {
     "name": "stdout",
     "output_type": "stream",
     "text": [
      "[Log]Predicted cell type in STHD_pred_ct in adata.obs\n",
      "[Log]Predicted cell type probabilities in columns starting with p_ct_ in adata.obs\n",
      "[Log] prediction saved to ./parameter_tuning_new_stop/crop0_left1_enteroendocrine_tumor/beta_0.03_stepsize_1_pdata.tsv\n",
      "[log] ------- Current Patch:  crop0_left1_enteroendocrine_tumor 0.1\n"
     ]
    },
    {
     "name": "stderr",
     "output_type": "stream",
     "text": [
      "/hpc/group/yizhanglab/yiz/venv/sthd_rebuttal/lib/python3.8/site-packages/anndata/_core/anndata.py:1840: UserWarning: Variable names are not unique. To make them unique, call `.var_names_make_unique`.\n",
      "  utils.warn_names_duplicates(\"var\")\n"
     ]
    },
    {
     "name": "stdout",
     "output_type": "stream",
     "text": [
      "[log] Number of spots:  22335\n",
      "[Log] filtering background: 22335 spots to 21183 spots\n",
      "(22335, 18085)\n",
      "[Log] num of gene overlap 4171\n",
      "[Log] attaching ref gene expr in .lambda_cell_type_by_gene_matrix\n",
      "cut 18085 genes to match to reference 4171 genes\n",
      "[Log] prepare_constants and training weights\n"
     ]
    },
    {
     "name": "stderr",
     "output_type": "stream",
     "text": [
      "/hpc/group/yizhanglab/yiz/venv/sthd_rebuttal/lib/python3.8/site-packages/anndata/_core/anndata.py:1840: UserWarning: Variable names are not unique. To make them unique, call `.var_names_make_unique`.\n",
      "  utils.warn_names_duplicates(\"var\")\n"
     ]
    },
    {
     "name": "stdout",
     "output_type": "stream",
     "text": [
      "Currently we only support symmetric adjacency matrix of neighbors\n",
      "[Log] Training...\n",
      "0 108.31720954668266 -102.88334040014644 54.33869146536226\n",
      "1 103.23232984731544 -97.67319429588005 55.591355514353815\n",
      "2 99.57198463997548 -94.18306674643863 53.88917893536863\n",
      "3 97.22327890129193 -92.13621408491271 50.87064816379232\n",
      "4 95.58807014919088 -90.85192441179252 47.36145737398358\n",
      "5 94.330453047057 -89.94570215285444 43.847508942025634\n",
      "6 93.33893124686412 -89.29335663999112 40.45574606873001\n",
      "7 92.54031635556727 -88.81305956360228 37.272567919649866\n",
      "8 91.86262420213741 -88.42588874097896 34.367354611584425\n",
      "9 91.2513791892081 -88.08668202637605 31.64697162832041\n",
      "10 90.68691421027434 -87.78764032863657 28.992738816377695\n",
      "11 90.18894195897337 -87.55024514252264 26.38696816450728\n",
      "12 89.78882764256348 -87.39774054170114 23.910871008623378\n",
      "13 89.48688601080069 -87.32901265399053 21.578733568101516\n",
      "14 89.25600090244636 -87.32516326618642 19.308376362599354\n",
      "15 89.06980648780359 -87.36380508652405 17.060014012795406\n",
      "16 88.91640335828542 -87.4259476119703 14.904557463151198\n",
      "17 88.79468311043466 -87.49611374087519 12.985693695594692\n",
      "18 88.70385382912302 -87.56072968412377 11.431241449992477\n",
      "19 88.63929865257995 -87.61139782208524 10.279008304947212\n",
      "20 88.59411337387472 -87.64656824100624 9.475451328684908\n",
      "21 88.56197768087274 -87.66908831757297 8.928893632997791\n",
      "22 88.53795944363553 -87.68309458226399 8.548648613715377\n",
      "23 88.51877759871648 -87.69191266781793 8.268649308985559\n",
      "24 88.50304748949598 -87.69780859859237 8.052388909036035\n"
     ]
    },
    {
     "name": "stderr",
     "output_type": "stream",
     "text": [
      "/hpc/group/yizhanglab/yiz/venv/sthd_rebuttal/lib/python3.8/site-packages/anndata/_core/anndata.py:1840: UserWarning: Variable names are not unique. To make them unique, call `.var_names_make_unique`.\n",
      "  utils.warn_names_duplicates(\"var\")\n",
      "/hpc/group/yizhanglab/yiz/venv/sthd_rebuttal/lib/python3.8/site-packages/STHD/train.py:75: PerformanceWarning: DataFrame is highly fragmented.  This is usually the result of calling `frame.insert` many times, which has poor performance.  Consider joining all columns at once using pd.concat(axis=1) instead. To get a de-fragmented frame, use `newframe = frame.copy()`\n",
      "  adata.obs[\"p_ct_\" + ct] = p[:, i]\n",
      "/hpc/group/yizhanglab/yiz/venv/sthd_rebuttal/lib/python3.8/site-packages/STHD/train.py:76: PerformanceWarning: DataFrame is highly fragmented.  This is usually the result of calling `frame.insert` many times, which has poor performance.  Consider joining all columns at once using pd.concat(axis=1) instead. To get a de-fragmented frame, use `newframe = frame.copy()`\n",
      "  adata.obs[\"x\"] = adata.obsm[\"spatial\"][:, 0]\n",
      "/hpc/group/yizhanglab/yiz/venv/sthd_rebuttal/lib/python3.8/site-packages/STHD/train.py:77: PerformanceWarning: DataFrame is highly fragmented.  This is usually the result of calling `frame.insert` many times, which has poor performance.  Consider joining all columns at once using pd.concat(axis=1) instead. To get a de-fragmented frame, use `newframe = frame.copy()`\n",
      "  adata.obs[\"y\"] = adata.obsm[\"spatial\"][:, 1]\n",
      "/hpc/group/yizhanglab/yiz/venv/sthd_rebuttal/lib/python3.8/site-packages/STHD/train.py:96: PerformanceWarning: DataFrame is highly fragmented.  This is usually the result of calling `frame.insert` many times, which has poor performance.  Consider joining all columns at once using pd.concat(axis=1) instead. To get a de-fragmented frame, use `newframe = frame.copy()`\n",
      "  adata.obs[\"STHD_pred_ct\"] = STHD_pred_ct[\"ct\"]\n"
     ]
    },
    {
     "name": "stdout",
     "output_type": "stream",
     "text": [
      "[Log]Predicted cell type in STHD_pred_ct in adata.obs\n",
      "[Log]Predicted cell type probabilities in columns starting with p_ct_ in adata.obs\n",
      "[Log] prediction saved to ./parameter_tuning_new_stop/crop0_left1_enteroendocrine_tumor/beta_0.1_stepsize_1_pdata.tsv\n",
      "[log] ------- Current Patch:  crop0_left1_enteroendocrine_tumor 0.3\n"
     ]
    },
    {
     "name": "stderr",
     "output_type": "stream",
     "text": [
      "/hpc/group/yizhanglab/yiz/venv/sthd_rebuttal/lib/python3.8/site-packages/anndata/_core/anndata.py:1840: UserWarning: Variable names are not unique. To make them unique, call `.var_names_make_unique`.\n",
      "  utils.warn_names_duplicates(\"var\")\n"
     ]
    },
    {
     "name": "stdout",
     "output_type": "stream",
     "text": [
      "[log] Number of spots:  22335\n",
      "[Log] filtering background: 22335 spots to 21183 spots\n",
      "(22335, 18085)\n"
     ]
    },
    {
     "name": "stderr",
     "output_type": "stream",
     "text": [
      "/hpc/group/yizhanglab/yiz/venv/sthd_rebuttal/lib/python3.8/site-packages/anndata/_core/anndata.py:1840: UserWarning: Variable names are not unique. To make them unique, call `.var_names_make_unique`.\n",
      "  utils.warn_names_duplicates(\"var\")\n"
     ]
    },
    {
     "name": "stdout",
     "output_type": "stream",
     "text": [
      "[Log] num of gene overlap 4171\n",
      "[Log] attaching ref gene expr in .lambda_cell_type_by_gene_matrix\n",
      "cut 18085 genes to match to reference 4171 genes\n",
      "[Log] prepare_constants and training weights\n",
      "Currently we only support symmetric adjacency matrix of neighbors\n",
      "[Log] Training...\n",
      "0 119.18494783975511 -102.88334040014644 54.33869146536226\n",
      "1 114.35060272901833 -97.67319621827268 55.59135503581883\n",
      "2 109.82380968934724 -94.31102099706308 51.709295640947204\n",
      "3 106.42365564850888 -92.3832708509274 46.80128265860495\n",
      "4 103.85853258521433 -91.21193271439446 42.155332902732894\n",
      "5 101.85933402922112 -90.39339149645551 38.21980844255201\n",
      "6 100.23569451233595 -89.78040130331689 34.850977363396886\n",
      "7 98.82903873646003 -89.31605465972353 31.709946922454996\n",
      "8 97.5821259019343 -88.9550688750389 28.756856756318\n",
      "9 96.46531043635933 -88.65592145043284 26.031296619754972\n",
      "10 95.42910542808586 -88.39746499266236 23.43880145141168\n",
      "11 94.42480244642742 -88.1793515621563 20.818169614237092\n",
      "12 93.4625634979339 -88.01730275413587 18.15086914599344\n",
      "13 92.60496249364613 -87.92391999125716 15.603475007963215\n",
      "14 91.87656235566209 -87.89344898039494 13.27704458422382\n",
      "15 91.26089854713389 -87.90911997058045 11.172595255178123\n",
      "16 90.75679181139878 -87.9505083580483 9.354278177834981\n",
      "17 90.37818294655997 -87.99856250241749 7.93206814714162\n",
      "18 90.12225846459783 -88.03985547424934 6.941343301161679\n",
      "19 89.95988077804354 -88.06956309120379 6.301058956132512\n",
      "20 89.85570093116367 -88.08957574119411 5.887083966565202\n",
      "21 89.78451150717423 -88.10301916327008 5.6049744796805285\n",
      "22 89.73323112200781 -88.11253048315307 5.402335462849162\n",
      "23 89.69430749461216 -88.120217050487 5.246968147083858\n",
      "24 89.66261510106149 -88.12679687827777 5.1193940759457295\n",
      "25 89.63584543708826 -88.13244354543798 5.011339638834271\n",
      "26 89.61208455550448 -88.1371837168706 4.91633612877963\n",
      "[Log]Predicted cell type in STHD_pred_ct in adata.obs\n",
      "[Log]Predicted cell type probabilities in columns starting with p_ct_ in adata.obs\n"
     ]
    },
    {
     "name": "stderr",
     "output_type": "stream",
     "text": [
      "/hpc/group/yizhanglab/yiz/venv/sthd_rebuttal/lib/python3.8/site-packages/anndata/_core/anndata.py:1840: UserWarning: Variable names are not unique. To make them unique, call `.var_names_make_unique`.\n",
      "  utils.warn_names_duplicates(\"var\")\n",
      "/hpc/group/yizhanglab/yiz/venv/sthd_rebuttal/lib/python3.8/site-packages/STHD/train.py:75: PerformanceWarning: DataFrame is highly fragmented.  This is usually the result of calling `frame.insert` many times, which has poor performance.  Consider joining all columns at once using pd.concat(axis=1) instead. To get a de-fragmented frame, use `newframe = frame.copy()`\n",
      "  adata.obs[\"p_ct_\" + ct] = p[:, i]\n",
      "/hpc/group/yizhanglab/yiz/venv/sthd_rebuttal/lib/python3.8/site-packages/STHD/train.py:76: PerformanceWarning: DataFrame is highly fragmented.  This is usually the result of calling `frame.insert` many times, which has poor performance.  Consider joining all columns at once using pd.concat(axis=1) instead. To get a de-fragmented frame, use `newframe = frame.copy()`\n",
      "  adata.obs[\"x\"] = adata.obsm[\"spatial\"][:, 0]\n",
      "/hpc/group/yizhanglab/yiz/venv/sthd_rebuttal/lib/python3.8/site-packages/STHD/train.py:77: PerformanceWarning: DataFrame is highly fragmented.  This is usually the result of calling `frame.insert` many times, which has poor performance.  Consider joining all columns at once using pd.concat(axis=1) instead. To get a de-fragmented frame, use `newframe = frame.copy()`\n",
      "  adata.obs[\"y\"] = adata.obsm[\"spatial\"][:, 1]\n",
      "/hpc/group/yizhanglab/yiz/venv/sthd_rebuttal/lib/python3.8/site-packages/STHD/train.py:96: PerformanceWarning: DataFrame is highly fragmented.  This is usually the result of calling `frame.insert` many times, which has poor performance.  Consider joining all columns at once using pd.concat(axis=1) instead. To get a de-fragmented frame, use `newframe = frame.copy()`\n",
      "  adata.obs[\"STHD_pred_ct\"] = STHD_pred_ct[\"ct\"]\n"
     ]
    },
    {
     "name": "stdout",
     "output_type": "stream",
     "text": [
      "[Log] prediction saved to ./parameter_tuning_new_stop/crop0_left1_enteroendocrine_tumor/beta_0.3_stepsize_1_pdata.tsv\n",
      "[log] ------- Current Patch:  crop0_left1_enteroendocrine_tumor 1\n"
     ]
    },
    {
     "name": "stderr",
     "output_type": "stream",
     "text": [
      "/hpc/group/yizhanglab/yiz/venv/sthd_rebuttal/lib/python3.8/site-packages/anndata/_core/anndata.py:1840: UserWarning: Variable names are not unique. To make them unique, call `.var_names_make_unique`.\n",
      "  utils.warn_names_duplicates(\"var\")\n"
     ]
    },
    {
     "name": "stdout",
     "output_type": "stream",
     "text": [
      "[log] Number of spots:  22335\n",
      "[Log] filtering background: 22335 spots to 21183 spots\n",
      "(22335, 18085)\n"
     ]
    },
    {
     "name": "stderr",
     "output_type": "stream",
     "text": [
      "/hpc/group/yizhanglab/yiz/venv/sthd_rebuttal/lib/python3.8/site-packages/anndata/_core/anndata.py:1840: UserWarning: Variable names are not unique. To make them unique, call `.var_names_make_unique`.\n",
      "  utils.warn_names_duplicates(\"var\")\n"
     ]
    },
    {
     "name": "stdout",
     "output_type": "stream",
     "text": [
      "[Log] num of gene overlap 4171\n",
      "[Log] attaching ref gene expr in .lambda_cell_type_by_gene_matrix\n",
      "cut 18085 genes to match to reference 4171 genes\n",
      "[Log] prepare_constants and training weights\n",
      "Currently we only support symmetric adjacency matrix of neighbors\n"
     ]
    }
   ],
   "source": [
    "for patch_name in patches:\n",
    "    for beta in beta_list:\n",
    "        print('[log] ------- Current Patch: ', patch_name, beta)\n",
    "        parameter_tuning(beta, os.path.join(paratune_folder, patch_name), refile)"
   ]
  },
  {
   "cell_type": "markdown",
   "id": "62ab1df7-c68f-4bf4-800d-545dbc95c4a3",
   "metadata": {},
   "source": [
    "# Find Best Parameter"
   ]
  },
  {
   "cell_type": "code",
   "execution_count": 26,
   "id": "f0990cca-270a-44c2-aebc-246de8146431",
   "metadata": {},
   "outputs": [
    {
     "name": "stdout",
     "output_type": "stream",
     "text": [
      "Bett value that most samples find to be best: 0.1\n",
      "How many samples find this beta to be the best: 100.0%\n",
      "Averaged n_iter under this beta: 23.17\n"
     ]
    }
   ],
   "source": [
    "best_beta, best_n_iter, res = find_params(paratune_folder, beta_list)"
   ]
  },
  {
   "cell_type": "code",
   "execution_count": 27,
   "id": "431b0711-26d0-486f-89d0-c008591d7d39",
   "metadata": {},
   "outputs": [
    {
     "name": "stdout",
     "output_type": "stream",
     "text": [
      "0.1 23.166666666666668\n"
     ]
    }
   ],
   "source": [
    "print( best_beta, best_n_iter )"
   ]
  }
 ],
 "metadata": {
  "kernelspec": {
   "display_name": "sthd_rebuttal",
   "language": "python",
   "name": "sthd_rebuttal"
  },
  "language_info": {
   "codemirror_mode": {
    "name": "ipython",
    "version": 3
   },
   "file_extension": ".py",
   "mimetype": "text/x-python",
   "name": "python",
   "nbconvert_exporter": "python",
   "pygments_lexer": "ipython3",
   "version": "3.8.8"
  }
 },
 "nbformat": 4,
 "nbformat_minor": 5
}
